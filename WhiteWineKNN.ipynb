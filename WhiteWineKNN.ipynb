{
  "nbformat": 4,
  "nbformat_minor": 0,
  "metadata": {
    "colab": {
      "name": "WineNewKNN.ipynb",
      "provenance": [],
      "authorship_tag": "ABX9TyO1iWawOEabWh+DBvWOtwk/",
      "include_colab_link": true
    },
    "kernelspec": {
      "name": "python3",
      "display_name": "Python 3"
    }
  },
  "cells": [
    {
      "cell_type": "markdown",
      "metadata": {
        "id": "view-in-github",
        "colab_type": "text"
      },
      "source": [
        "<a href=\"https://colab.research.google.com/github/urvimistry1708/MachineLearning/blob/main/WhiteWineKNN.ipynb\" target=\"_parent\"><img src=\"https://colab.research.google.com/assets/colab-badge.svg\" alt=\"Open In Colab\"/></a>"
      ]
    },
    {
      "cell_type": "code",
      "metadata": {
        "id": "AW8hBnIRbAPy"
      },
      "source": [
        "import numpy as np\r\n",
        "import pandas as pd\r\n",
        "import math as m"
      ],
      "execution_count": null,
      "outputs": []
    },
    {
      "cell_type": "code",
      "metadata": {
        "colab": {
          "base_uri": "https://localhost:8080/",
          "height": 221
        },
        "id": "ssOE8JULbxtm",
        "outputId": "00bdcc4f-0f3e-4212-dd0d-36854614268c"
      },
      "source": [
        "data=pd.read_csv(\"winequality-white-new.csv\");\r\n",
        "data.head()"
      ],
      "execution_count": null,
      "outputs": [
        {
          "output_type": "execute_result",
          "data": {
            "text/html": [
              "<div>\n",
              "<style scoped>\n",
              "    .dataframe tbody tr th:only-of-type {\n",
              "        vertical-align: middle;\n",
              "    }\n",
              "\n",
              "    .dataframe tbody tr th {\n",
              "        vertical-align: top;\n",
              "    }\n",
              "\n",
              "    .dataframe thead th {\n",
              "        text-align: right;\n",
              "    }\n",
              "</style>\n",
              "<table border=\"1\" class=\"dataframe\">\n",
              "  <thead>\n",
              "    <tr style=\"text-align: right;\">\n",
              "      <th></th>\n",
              "      <th>fixed acidity</th>\n",
              "      <th>volatile acidity</th>\n",
              "      <th>citric acid</th>\n",
              "      <th>residual sugar</th>\n",
              "      <th>chlorides</th>\n",
              "      <th>free sulfur dioxide</th>\n",
              "      <th>total sulfur dioxide</th>\n",
              "      <th>density</th>\n",
              "      <th>pH</th>\n",
              "      <th>sulphates</th>\n",
              "      <th>alcohol</th>\n",
              "      <th>quality</th>\n",
              "    </tr>\n",
              "  </thead>\n",
              "  <tbody>\n",
              "    <tr>\n",
              "      <th>0</th>\n",
              "      <td>7.0</td>\n",
              "      <td>0.27</td>\n",
              "      <td>0.36</td>\n",
              "      <td>20.7</td>\n",
              "      <td>0.045</td>\n",
              "      <td>45.0</td>\n",
              "      <td>170.0</td>\n",
              "      <td>1.0010</td>\n",
              "      <td>3.00</td>\n",
              "      <td>0.45</td>\n",
              "      <td>8.8</td>\n",
              "      <td>6</td>\n",
              "    </tr>\n",
              "    <tr>\n",
              "      <th>1</th>\n",
              "      <td>6.3</td>\n",
              "      <td>0.30</td>\n",
              "      <td>0.34</td>\n",
              "      <td>1.6</td>\n",
              "      <td>0.049</td>\n",
              "      <td>14.0</td>\n",
              "      <td>132.0</td>\n",
              "      <td>0.9940</td>\n",
              "      <td>3.30</td>\n",
              "      <td>0.49</td>\n",
              "      <td>9.5</td>\n",
              "      <td>6</td>\n",
              "    </tr>\n",
              "    <tr>\n",
              "      <th>2</th>\n",
              "      <td>8.1</td>\n",
              "      <td>0.28</td>\n",
              "      <td>0.40</td>\n",
              "      <td>6.9</td>\n",
              "      <td>0.050</td>\n",
              "      <td>30.0</td>\n",
              "      <td>97.0</td>\n",
              "      <td>0.9951</td>\n",
              "      <td>3.26</td>\n",
              "      <td>0.44</td>\n",
              "      <td>10.1</td>\n",
              "      <td>6</td>\n",
              "    </tr>\n",
              "    <tr>\n",
              "      <th>3</th>\n",
              "      <td>7.2</td>\n",
              "      <td>0.23</td>\n",
              "      <td>0.32</td>\n",
              "      <td>8.5</td>\n",
              "      <td>0.058</td>\n",
              "      <td>47.0</td>\n",
              "      <td>186.0</td>\n",
              "      <td>0.9956</td>\n",
              "      <td>3.19</td>\n",
              "      <td>0.40</td>\n",
              "      <td>9.9</td>\n",
              "      <td>6</td>\n",
              "    </tr>\n",
              "    <tr>\n",
              "      <th>4</th>\n",
              "      <td>7.2</td>\n",
              "      <td>0.23</td>\n",
              "      <td>0.32</td>\n",
              "      <td>8.5</td>\n",
              "      <td>0.058</td>\n",
              "      <td>47.0</td>\n",
              "      <td>186.0</td>\n",
              "      <td>0.9956</td>\n",
              "      <td>3.19</td>\n",
              "      <td>0.40</td>\n",
              "      <td>9.9</td>\n",
              "      <td>6</td>\n",
              "    </tr>\n",
              "  </tbody>\n",
              "</table>\n",
              "</div>"
            ],
            "text/plain": [
              "   fixed acidity  volatile acidity  citric acid  ...  sulphates  alcohol  quality\n",
              "0            7.0              0.27         0.36  ...       0.45      8.8        6\n",
              "1            6.3              0.30         0.34  ...       0.49      9.5        6\n",
              "2            8.1              0.28         0.40  ...       0.44     10.1        6\n",
              "3            7.2              0.23         0.32  ...       0.40      9.9        6\n",
              "4            7.2              0.23         0.32  ...       0.40      9.9        6\n",
              "\n",
              "[5 rows x 12 columns]"
            ]
          },
          "metadata": {
            "tags": []
          },
          "execution_count": 17
        }
      ]
    },
    {
      "cell_type": "code",
      "metadata": {
        "colab": {
          "base_uri": "https://localhost:8080/"
        },
        "id": "mllbwbzCci94",
        "outputId": "89de3c24-6f13-4e13-c780-f21b09d8e7c5"
      },
      "source": [
        "x=data.iloc[:,0:11].values\r\n",
        "y=data.iloc[:,11:].values\r\n",
        "x\r\n",
        "print(y)"
      ],
      "execution_count": null,
      "outputs": [
        {
          "output_type": "stream",
          "text": [
            "[[6]\n",
            " [6]\n",
            " [6]\n",
            " ...\n",
            " [6]\n",
            " [7]\n",
            " [6]]\n"
          ],
          "name": "stdout"
        }
      ]
    },
    {
      "cell_type": "code",
      "metadata": {
        "id": "BUgKvY7ydlNl"
      },
      "source": [
        "from sklearn.model_selection import train_test_split\r\n",
        "x_train,x_test,y_train,y_test=train_test_split(x,y,random_state=0,test_size=0.2)\r\n"
      ],
      "execution_count": null,
      "outputs": []
    },
    {
      "cell_type": "code",
      "metadata": {
        "id": "cqXUmyljeeTc"
      },
      "source": [
        "from sklearn.preprocessing import StandardScaler\r\n",
        "scale=StandardScaler()\r\n",
        "x_train=scale.fit_transform(x_train)\r\n",
        "x_test=scale.transform(x_test)\r\n"
      ],
      "execution_count": null,
      "outputs": []
    },
    {
      "cell_type": "code",
      "metadata": {
        "colab": {
          "base_uri": "https://localhost:8080/"
        },
        "id": "t2saFSUY5THq",
        "outputId": "20362ff3-93d7-4fb3-b6e3-57e437418f59"
      },
      "source": [
        "m.sqrt(len(y_test))"
      ],
      "execution_count": null,
      "outputs": [
        {
          "output_type": "execute_result",
          "data": {
            "text/plain": [
              "31.304951684997057"
            ]
          },
          "metadata": {
            "tags": []
          },
          "execution_count": 27
        }
      ]
    },
    {
      "cell_type": "code",
      "metadata": {
        "colab": {
          "base_uri": "https://localhost:8080/"
        },
        "id": "hS3uomFTfH7Y",
        "outputId": "ac981611-2bf1-442d-aadb-ee18fd92bc58"
      },
      "source": [
        "from sklearn.neighbors import KNeighborsClassifier\r\n",
        "model=KNeighborsClassifier(n_neighbors=31,p=11,metric='euclidean')\r\n",
        "model.fit(x_train,y_train)"
      ],
      "execution_count": null,
      "outputs": [
        {
          "output_type": "stream",
          "text": [
            "/usr/local/lib/python3.6/dist-packages/ipykernel_launcher.py:3: DataConversionWarning: A column-vector y was passed when a 1d array was expected. Please change the shape of y to (n_samples, ), for example using ravel().\n",
            "  This is separate from the ipykernel package so we can avoid doing imports until\n"
          ],
          "name": "stderr"
        },
        {
          "output_type": "execute_result",
          "data": {
            "text/plain": [
              "KNeighborsClassifier(algorithm='auto', leaf_size=30, metric='euclidean',\n",
              "                     metric_params=None, n_jobs=None, n_neighbors=31, p=11,\n",
              "                     weights='uniform')"
            ]
          },
          "metadata": {
            "tags": []
          },
          "execution_count": 10
        }
      ]
    },
    {
      "cell_type": "code",
      "metadata": {
        "colab": {
          "base_uri": "https://localhost:8080/"
        },
        "id": "Ewc9veQPg1ZE",
        "outputId": "a3bf6e02-7bf0-4d72-8adc-98023ff0e8a1"
      },
      "source": [
        "\r\n",
        "y_pred=model.predict(x_test)\r\n",
        "y_pred"
      ],
      "execution_count": null,
      "outputs": [
        {
          "output_type": "execute_result",
          "data": {
            "text/plain": [
              "array([5, 6, 6, 7, 5, 5, 6, 6, 6, 5, 6, 7, 5, 5, 6, 6, 6, 6, 6, 6, 6, 6,\n",
              "       6, 6, 6, 6, 5, 5, 7, 6, 5, 5, 6, 6, 6, 6, 6, 7, 7, 6, 6, 6, 6, 6,\n",
              "       5, 6, 5, 7, 6, 6, 7, 6, 5, 6, 6, 6, 6, 6, 5, 6, 5, 6, 6, 6, 6, 6,\n",
              "       5, 5, 5, 5, 6, 5, 6, 7, 6, 6, 6, 5, 5, 7, 5, 5, 6, 6, 5, 6, 6, 7,\n",
              "       5, 6, 7, 6, 5, 7, 5, 6, 6, 5, 5, 7, 6, 5, 6, 6, 6, 7, 6, 6, 7, 5,\n",
              "       5, 6, 6, 6, 7, 7, 5, 5, 7, 6, 5, 5, 5, 5, 6, 7, 5, 6, 6, 6, 6, 6,\n",
              "       6, 6, 6, 5, 6, 6, 5, 6, 6, 6, 5, 6, 6, 6, 6, 6, 6, 6, 6, 6, 6, 6,\n",
              "       6, 6, 5, 6, 6, 5, 6, 6, 6, 6, 5, 7, 6, 6, 5, 6, 6, 6, 6, 6, 6, 6,\n",
              "       5, 6, 6, 5, 6, 6, 6, 7, 6, 6, 6, 6, 6, 6, 5, 5, 5, 6, 6, 6, 5, 7,\n",
              "       6, 7, 6, 6, 5, 6, 6, 5, 7, 5, 6, 6, 5, 7, 7, 5, 5, 7, 6, 6, 7, 7,\n",
              "       5, 6, 6, 6, 6, 5, 6, 5, 6, 5, 6, 7, 5, 6, 6, 6, 6, 6, 5, 6, 5, 6,\n",
              "       7, 6, 6, 6, 5, 5, 7, 6, 6, 6, 6, 6, 6, 5, 6, 6, 6, 7, 5, 7, 6, 6,\n",
              "       5, 6, 6, 6, 5, 5, 7, 6, 5, 6, 5, 5, 6, 6, 5, 6, 6, 5, 5, 6, 6, 6,\n",
              "       6, 6, 5, 5, 6, 6, 7, 7, 5, 5, 6, 5, 5, 6, 5, 6, 6, 6, 6, 6, 5, 5,\n",
              "       6, 5, 6, 6, 6, 6, 6, 5, 6, 5, 6, 7, 5, 7, 6, 6, 6, 6, 6, 5, 5, 6,\n",
              "       6, 6, 5, 6, 6, 6, 5, 6, 6, 5, 7, 5, 6, 6, 6, 6, 5, 7, 6, 6, 6, 6,\n",
              "       7, 6, 7, 6, 6, 6, 5, 7, 6, 6, 6, 6, 7, 5, 6, 6, 5, 5, 5, 6, 7, 5,\n",
              "       7, 5, 6, 6, 6, 6, 6, 6, 6, 6, 5, 5, 5, 6, 5, 5, 6, 7, 6, 6, 6, 7,\n",
              "       6, 6, 6, 6, 7, 7, 6, 6, 6, 6, 6, 7, 6, 7, 5, 6, 6, 5, 6, 6, 6, 6,\n",
              "       7, 7, 6, 5, 5, 5, 6, 5, 6, 6, 6, 7, 6, 7, 5, 5, 7, 6, 6, 5, 6, 6,\n",
              "       5, 5, 5, 5, 6, 7, 6, 7, 6, 6, 6, 6, 5, 6, 5, 5, 6, 6, 6, 5, 6, 5,\n",
              "       6, 6, 6, 5, 7, 5, 5, 5, 6, 6, 6, 5, 5, 5, 6, 6, 5, 5, 5, 5, 6, 6,\n",
              "       6, 5, 6, 6, 5, 6, 7, 6, 7, 6, 6, 7, 6, 5, 6, 6, 6, 6, 5, 5, 5, 6,\n",
              "       6, 6, 6, 5, 6, 6, 6, 6, 6, 5, 7, 5, 6, 7, 6, 6, 5, 5, 5, 6, 6, 6,\n",
              "       6, 6, 5, 5, 7, 6, 5, 5, 5, 5, 6, 5, 7, 6, 5, 5, 5, 6, 6, 5, 5, 6,\n",
              "       6, 6, 6, 5, 7, 6, 5, 5, 6, 7, 6, 6, 5, 7, 6, 6, 6, 5, 6, 6, 6, 6,\n",
              "       6, 6, 6, 5, 5, 5, 6, 6, 6, 6, 5, 5, 6, 6, 6, 6, 6, 7, 5, 7, 5, 6,\n",
              "       6, 5, 6, 6, 6, 5, 5, 5, 5, 6, 5, 6, 6, 6, 5, 5, 6, 5, 6, 6, 6, 6,\n",
              "       6, 6, 6, 5, 6, 6, 6, 6, 5, 5, 6, 5, 6, 5, 7, 5, 6, 6, 6, 6, 6, 6,\n",
              "       6, 6, 6, 6, 5, 5, 6, 6, 7, 6, 6, 7, 5, 5, 6, 6, 6, 5, 6, 5, 6, 5,\n",
              "       6, 5, 7, 5, 6, 6, 5, 6, 6, 5, 6, 5, 6, 6, 6, 5, 6, 5, 6, 6, 6, 5,\n",
              "       5, 6, 6, 7, 5, 6, 6, 5, 6, 6, 5, 5, 5, 6, 6, 6, 6, 5, 5, 5, 6, 6,\n",
              "       6, 6, 6, 6, 6, 6, 5, 6, 6, 5, 6, 6, 7, 6, 5, 6, 6, 6, 5, 7, 6, 5,\n",
              "       7, 6, 6, 6, 6, 6, 6, 5, 5, 5, 5, 5, 6, 6, 6, 6, 6, 5, 5, 6, 6, 6,\n",
              "       5, 5, 7, 5, 6, 6, 5, 6, 7, 6, 7, 7, 5, 5, 6, 7, 6, 6, 6, 6, 5, 5,\n",
              "       6, 5, 5, 7, 6, 6, 6, 5, 6, 5, 6, 5, 5, 5, 5, 6, 5, 7, 6, 6, 6, 6,\n",
              "       5, 6, 7, 5, 5, 6, 6, 5, 6, 7, 6, 6, 6, 6, 7, 6, 6, 5, 6, 6, 6, 6,\n",
              "       6, 5, 6, 6, 6, 6, 5, 5, 6, 6, 6, 6, 5, 5, 6, 5, 6, 7, 5, 6, 6, 5,\n",
              "       6, 6, 6, 5, 5, 6, 6, 5, 5, 5, 6, 6, 6, 6, 6, 5, 6, 6, 6, 6, 6, 6,\n",
              "       6, 6, 5, 5, 6, 5, 5, 5, 5, 5, 5, 5, 6, 6, 5, 5, 6, 6, 5, 6, 6, 6,\n",
              "       7, 5, 6, 6, 6, 6, 5, 5, 5, 6, 6, 5, 5, 5, 6, 5, 6, 6, 6, 6, 6, 6,\n",
              "       6, 5, 6, 5, 5, 6, 6, 6, 6, 6, 6, 5, 6, 6, 6, 6, 6, 6, 6, 7, 6, 6,\n",
              "       5, 7, 6, 6, 6, 6, 6, 6, 6, 6, 6, 6, 7, 6, 6, 5, 6, 6, 7, 6, 7, 7,\n",
              "       6, 6, 6, 6, 6, 6, 6, 7, 6, 5, 7, 6, 6, 5, 6, 6, 6, 6, 6, 6, 7, 6,\n",
              "       6, 6, 7, 6, 6, 6, 6, 5, 6, 6, 5, 5])"
            ]
          },
          "metadata": {
            "tags": []
          },
          "execution_count": 12
        }
      ]
    },
    {
      "cell_type": "code",
      "metadata": {
        "colab": {
          "base_uri": "https://localhost:8080/"
        },
        "id": "mz9Db79Wg-9U",
        "outputId": "e99b98cd-4657-4b3c-ebe7-416a87be5a93"
      },
      "source": [
        "from sklearn.metrics import confusion_matrix\r\n",
        "cm=confusion_matrix(y_test,y_pred)\r\n",
        "cm"
      ],
      "execution_count": null,
      "outputs": [
        {
          "output_type": "execute_result",
          "data": {
            "text/plain": [
              "array([[  0,   0,   6,   2,   1,   0],\n",
              "       [  0,   0,  30,  20,   1,   0],\n",
              "       [  0,   0, 169, 121,   5,   0],\n",
              "       [  0,   0,  77, 300,  32,   0],\n",
              "       [  0,   0,  11, 119,  53,   0],\n",
              "       [  0,   0,   1,  21,  11,   0]])"
            ]
          },
          "metadata": {
            "tags": []
          },
          "execution_count": 13
        }
      ]
    },
    {
      "cell_type": "code",
      "metadata": {
        "colab": {
          "base_uri": "https://localhost:8080/"
        },
        "id": "sjCWPUWxhHD_",
        "outputId": "00e49f39-6fdb-4143-9536-038bf2574a93"
      },
      "source": [
        "from sklearn.metrics import accuracy_score\r\n",
        "print(accuracy_score(y_test,y_pred)*100)"
      ],
      "execution_count": null,
      "outputs": [
        {
          "output_type": "stream",
          "text": [
            "53.265306122448976\n"
          ],
          "name": "stdout"
        }
      ]
    }
  ]
}